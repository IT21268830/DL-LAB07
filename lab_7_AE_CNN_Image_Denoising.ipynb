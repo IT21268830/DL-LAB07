{
  "cells": [
    {
      "cell_type": "markdown",
      "metadata": {
        "id": "view-in-github",
        "colab_type": "text"
      },
      "source": [
        "<a href=\"https://colab.research.google.com/github/IT21268830/DL-LAB07/blob/main/lab_7_AE_CNN_Image_Denoising.ipynb\" target=\"_parent\"><img src=\"https://colab.research.google.com/assets/colab-badge.svg\" alt=\"Open In Colab\"/></a>"
      ]
    },
    {
      "cell_type": "code",
      "execution_count": 15,
      "id": "f4340427",
      "metadata": {
        "id": "f4340427"
      },
      "outputs": [],
      "source": [
        "import matplotlib.pyplot as plt\n",
        "import numpy as np\n",
        "import pandas as pd\n",
        "import tensorflow as tf\n",
        "\n",
        "from sklearn.metrics import accuracy_score, precision_score, recall_score\n",
        "from sklearn.model_selection import train_test_split\n",
        "from tensorflow.keras import layers, losses\n",
        "from tensorflow.keras.datasets import fashion_mnist\n",
        "from tensorflow.keras.models import Model"
      ]
    },
    {
      "cell_type": "code",
      "execution_count": 2,
      "id": "a661149f",
      "metadata": {
        "colab": {
          "base_uri": "https://localhost:8080/"
        },
        "id": "a661149f",
        "outputId": "2a602b6b-137f-4e14-f6d6-81ddea042666"
      },
      "outputs": [
        {
          "output_type": "stream",
          "name": "stdout",
          "text": [
            "Downloading data from https://storage.googleapis.com/tensorflow/tf-keras-datasets/train-labels-idx1-ubyte.gz\n",
            "\u001b[1m29515/29515\u001b[0m \u001b[32m━━━━━━━━━━━━━━━━━━━━\u001b[0m\u001b[37m\u001b[0m \u001b[1m0s\u001b[0m 0us/step\n",
            "Downloading data from https://storage.googleapis.com/tensorflow/tf-keras-datasets/train-images-idx3-ubyte.gz\n",
            "\u001b[1m26421880/26421880\u001b[0m \u001b[32m━━━━━━━━━━━━━━━━━━━━\u001b[0m\u001b[37m\u001b[0m \u001b[1m1s\u001b[0m 0us/step\n",
            "Downloading data from https://storage.googleapis.com/tensorflow/tf-keras-datasets/t10k-labels-idx1-ubyte.gz\n",
            "\u001b[1m5148/5148\u001b[0m \u001b[32m━━━━━━━━━━━━━━━━━━━━\u001b[0m\u001b[37m\u001b[0m \u001b[1m0s\u001b[0m 0us/step\n",
            "Downloading data from https://storage.googleapis.com/tensorflow/tf-keras-datasets/t10k-images-idx3-ubyte.gz\n",
            "\u001b[1m4422102/4422102\u001b[0m \u001b[32m━━━━━━━━━━━━━━━━━━━━\u001b[0m\u001b[37m\u001b[0m \u001b[1m0s\u001b[0m 0us/step\n"
          ]
        }
      ],
      "source": [
        "(x_train, _), (x_test, _) = fashion_mnist.load_data()\n"
      ]
    },
    {
      "cell_type": "code",
      "execution_count": 3,
      "id": "23fc6f78",
      "metadata": {
        "id": "23fc6f78"
      },
      "outputs": [],
      "source": [
        "x_train = x_train.astype('float32') / 255.\n",
        "x_test = x_test.astype('float32') / 255.\n",
        "\n"
      ]
    },
    {
      "cell_type": "code",
      "execution_count": 4,
      "id": "1bdf4e3c",
      "metadata": {
        "colab": {
          "base_uri": "https://localhost:8080/"
        },
        "id": "1bdf4e3c",
        "outputId": "7f651efc-9e90-461d-c0e8-170d8d64cb46"
      },
      "outputs": [
        {
          "output_type": "stream",
          "name": "stdout",
          "text": [
            "(60000, 28, 28, 1)\n",
            "(10000, 28, 28, 1)\n"
          ]
        }
      ],
      "source": [
        "x_train = x_train[..., tf.newaxis] #adds a additional axis (60000,28,28) --> (60000,28,28,1)\n",
        "x_test = x_test[..., tf.newaxis]\n",
        "print(x_train.shape)\n",
        "print(x_test.shape)"
      ]
    },
    {
      "cell_type": "code",
      "execution_count": 5,
      "id": "37a6b423",
      "metadata": {
        "collapsed": true,
        "colab": {
          "base_uri": "https://localhost:8080/"
        },
        "id": "37a6b423",
        "outputId": "a76476a9-588d-4bdf-f3b2-7ab407a6d95f"
      },
      "outputs": [
        {
          "output_type": "execute_result",
          "data": {
            "text/plain": [
              "<tf.Tensor: shape=(60000, 28, 28, 1), dtype=float32, numpy=\n",
              "array([[[[-1.16578147e-01],\n",
              "         [ 1.05315804e+00],\n",
              "         [ 9.82931376e-01],\n",
              "         ...,\n",
              "         [ 1.16366458e+00],\n",
              "         [ 1.58338010e+00],\n",
              "         [-1.02383411e+00]],\n",
              "\n",
              "        [[ 3.26075220e+00],\n",
              "         [-7.00995445e-01],\n",
              "         [-6.15167797e-01],\n",
              "         ...,\n",
              "         [-3.81829999e-02],\n",
              "         [-9.39632833e-01],\n",
              "         [-1.73630333e+00]],\n",
              "\n",
              "        [[-1.88612974e+00],\n",
              "         [-6.07627928e-01],\n",
              "         [ 3.26727591e-02],\n",
              "         ...,\n",
              "         [-2.44713649e-01],\n",
              "         [ 7.91967869e-01],\n",
              "         [-2.72865564e-01]],\n",
              "\n",
              "        ...,\n",
              "\n",
              "        [[ 8.28351915e-01],\n",
              "         [ 7.45989740e-01],\n",
              "         [ 1.05118787e+00],\n",
              "         ...,\n",
              "         [ 1.19370198e+00],\n",
              "         [-3.15146059e-01],\n",
              "         [ 1.15609884e+00]],\n",
              "\n",
              "        [[-5.00918210e-01],\n",
              "         [-1.34458947e+00],\n",
              "         [-6.40152693e-01],\n",
              "         ...,\n",
              "         [ 1.38766909e+00],\n",
              "         [-4.86818373e-01],\n",
              "         [ 5.12909114e-01]],\n",
              "\n",
              "        [[ 2.27454662e+00],\n",
              "         [-4.67691690e-01],\n",
              "         [-8.56393754e-01],\n",
              "         ...,\n",
              "         [-3.59278351e-01],\n",
              "         [ 2.90145636e-01],\n",
              "         [-4.30357635e-01]]],\n",
              "\n",
              "\n",
              "       [[[-4.73388344e-01],\n",
              "         [-9.52501476e-01],\n",
              "         [ 2.76421040e-01],\n",
              "         ...,\n",
              "         [ 6.12041891e-01],\n",
              "         [ 6.58234417e-01],\n",
              "         [ 1.38968599e+00]],\n",
              "\n",
              "        [[ 4.66047138e-01],\n",
              "         [-5.67821085e-01],\n",
              "         [ 3.87405574e-01],\n",
              "         ...,\n",
              "         [-2.02668428e-01],\n",
              "         [ 8.20752978e-01],\n",
              "         [-1.37410522e+00]],\n",
              "\n",
              "        [[ 7.24506795e-01],\n",
              "         [-2.92123575e-02],\n",
              "         [-5.08174062e-01],\n",
              "         ...,\n",
              "         [ 3.98734957e-01],\n",
              "         [ 5.15507162e-01],\n",
              "         [ 1.42415226e-01]],\n",
              "\n",
              "        ...,\n",
              "\n",
              "        [[ 7.79581010e-01],\n",
              "         [-8.27327192e-01],\n",
              "         [ 5.93799770e-01],\n",
              "         ...,\n",
              "         [ 2.34911293e-01],\n",
              "         [ 1.21430123e+00],\n",
              "         [ 6.63018823e-01]],\n",
              "\n",
              "        [[ 7.38119930e-02],\n",
              "         [-1.66271162e+00],\n",
              "         [ 8.38565350e-01],\n",
              "         ...,\n",
              "         [-5.27274549e-01],\n",
              "         [-2.02675414e+00],\n",
              "         [ 5.63974559e-01]],\n",
              "\n",
              "        [[-6.69365764e-01],\n",
              "         [-3.30339968e-01],\n",
              "         [-1.12891614e-01],\n",
              "         ...,\n",
              "         [-5.19555986e-01],\n",
              "         [ 1.25492454e+00],\n",
              "         [ 5.48202693e-01]]],\n",
              "\n",
              "\n",
              "       [[[-8.32569480e-01],\n",
              "         [-2.23564595e-01],\n",
              "         [-5.76972365e-01],\n",
              "         ...,\n",
              "         [ 1.20966911e-01],\n",
              "         [ 2.69286126e-01],\n",
              "         [-3.74855816e-01]],\n",
              "\n",
              "        [[ 6.71542585e-01],\n",
              "         [ 3.95266980e-01],\n",
              "         [-9.91535783e-01],\n",
              "         ...,\n",
              "         [ 7.47518957e-01],\n",
              "         [-6.62427783e-01],\n",
              "         [-9.45201039e-01]],\n",
              "\n",
              "        [[-4.59280133e-01],\n",
              "         [ 8.92833620e-02],\n",
              "         [ 3.54618579e-01],\n",
              "         ...,\n",
              "         [-1.26984382e+00],\n",
              "         [ 2.41206765e+00],\n",
              "         [ 7.12446034e-01]],\n",
              "\n",
              "        ...,\n",
              "\n",
              "        [[-2.35527307e-02],\n",
              "         [ 1.04726160e+00],\n",
              "         [ 5.49020171e-01],\n",
              "         ...,\n",
              "         [ 7.59838462e-01],\n",
              "         [-1.01390254e+00],\n",
              "         [ 1.24668658e+00]],\n",
              "\n",
              "        [[ 5.00456870e-01],\n",
              "         [ 9.66586828e-01],\n",
              "         [-7.35341191e-01],\n",
              "         ...,\n",
              "         [-4.52777177e-01],\n",
              "         [-1.57895136e+00],\n",
              "         [-3.69804263e-01]],\n",
              "\n",
              "        [[-1.20355666e+00],\n",
              "         [-1.06423557e-01],\n",
              "         [ 6.70085192e-01],\n",
              "         ...,\n",
              "         [ 1.27895296e-01],\n",
              "         [ 9.25696611e-01],\n",
              "         [-6.18868768e-01]]],\n",
              "\n",
              "\n",
              "       ...,\n",
              "\n",
              "\n",
              "       [[[ 1.06834865e+00],\n",
              "         [ 1.48897037e-01],\n",
              "         [ 1.59587538e+00],\n",
              "         ...,\n",
              "         [-5.71656168e-01],\n",
              "         [ 7.56295860e-01],\n",
              "         [-5.97347558e-01]],\n",
              "\n",
              "        [[ 4.73522753e-01],\n",
              "         [-1.65301514e+00],\n",
              "         [-1.77894270e+00],\n",
              "         ...,\n",
              "         [-2.89787482e-02],\n",
              "         [-1.17985129e+00],\n",
              "         [-1.79748774e+00]],\n",
              "\n",
              "        [[ 6.69670284e-01],\n",
              "         [-1.12350321e+00],\n",
              "         [-1.29172337e+00],\n",
              "         ...,\n",
              "         [-6.70946717e-01],\n",
              "         [-7.59019434e-01],\n",
              "         [ 1.02576804e+00]],\n",
              "\n",
              "        ...,\n",
              "\n",
              "        [[-2.74686247e-01],\n",
              "         [-5.29540122e-01],\n",
              "         [-7.15784192e-01],\n",
              "         ...,\n",
              "         [ 4.11929071e-01],\n",
              "         [ 2.03180170e+00],\n",
              "         [ 9.03818607e-01]],\n",
              "\n",
              "        [[-5.76006651e-01],\n",
              "         [-1.46130693e+00],\n",
              "         [-8.52483630e-01],\n",
              "         ...,\n",
              "         [ 1.82411408e+00],\n",
              "         [-2.43670285e-01],\n",
              "         [-2.44248472e-02]],\n",
              "\n",
              "        [[-1.51862472e-01],\n",
              "         [-4.95940708e-02],\n",
              "         [ 1.37739813e+00],\n",
              "         ...,\n",
              "         [-1.34270215e+00],\n",
              "         [-4.21396971e-01],\n",
              "         [ 5.01789451e-01]]],\n",
              "\n",
              "\n",
              "       [[[-1.82264662e+00],\n",
              "         [ 8.70219707e-01],\n",
              "         [-2.16944838e+00],\n",
              "         ...,\n",
              "         [ 1.41754401e+00],\n",
              "         [-9.81072128e-01],\n",
              "         [ 1.61072814e+00]],\n",
              "\n",
              "        [[ 3.81956369e-01],\n",
              "         [ 4.07812119e-01],\n",
              "         [ 6.54527187e-01],\n",
              "         ...,\n",
              "         [ 3.20022583e-01],\n",
              "         [ 1.41676754e-01],\n",
              "         [-6.27988279e-02]],\n",
              "\n",
              "        [[ 6.00059807e-01],\n",
              "         [-1.96771181e+00],\n",
              "         [-1.26347697e+00],\n",
              "         ...,\n",
              "         [-9.05324742e-02],\n",
              "         [-1.65356779e+00],\n",
              "         [-5.06925762e-01]],\n",
              "\n",
              "        ...,\n",
              "\n",
              "        [[-4.17690396e-01],\n",
              "         [-1.14543700e+00],\n",
              "         [ 1.71366274e+00],\n",
              "         ...,\n",
              "         [-1.50663245e+00],\n",
              "         [-2.37221387e-03],\n",
              "         [-3.35632771e-01]],\n",
              "\n",
              "        [[ 8.23262483e-02],\n",
              "         [ 1.64625013e+00],\n",
              "         [ 1.61407495e+00],\n",
              "         ...,\n",
              "         [-1.29292643e+00],\n",
              "         [-1.63285983e+00],\n",
              "         [ 1.15062416e+00]],\n",
              "\n",
              "        [[ 7.51404285e-01],\n",
              "         [-1.56230724e+00],\n",
              "         [ 5.13554633e-01],\n",
              "         ...,\n",
              "         [ 5.83999038e-01],\n",
              "         [ 1.36048579e+00],\n",
              "         [-2.26066494e+00]]],\n",
              "\n",
              "\n",
              "       [[[ 1.21722388e+00],\n",
              "         [ 6.70474410e-01],\n",
              "         [ 2.89158046e-01],\n",
              "         ...,\n",
              "         [-6.35029793e-01],\n",
              "         [-2.35985708e+00],\n",
              "         [ 1.57226011e-01]],\n",
              "\n",
              "        [[-7.44593322e-01],\n",
              "         [-1.66532397e+00],\n",
              "         [ 6.76026583e-01],\n",
              "         ...,\n",
              "         [ 4.99675661e-01],\n",
              "         [-7.58288920e-01],\n",
              "         [ 1.46512496e+00]],\n",
              "\n",
              "        [[ 4.87460881e-01],\n",
              "         [ 2.41511598e-01],\n",
              "         [ 7.18921006e-01],\n",
              "         ...,\n",
              "         [-7.26876855e-02],\n",
              "         [ 7.01237321e-01],\n",
              "         [-1.54144885e-02]],\n",
              "\n",
              "        ...,\n",
              "\n",
              "        [[-8.00875425e-01],\n",
              "         [ 4.66744751e-01],\n",
              "         [ 1.19219315e+00],\n",
              "         ...,\n",
              "         [-1.24061990e+00],\n",
              "         [ 2.38299504e-01],\n",
              "         [-6.13814950e-01]],\n",
              "\n",
              "        [[ 1.44420052e+00],\n",
              "         [-2.00085187e+00],\n",
              "         [-2.30015427e-01],\n",
              "         ...,\n",
              "         [ 1.24744558e+00],\n",
              "         [ 1.08538282e+00],\n",
              "         [-6.04927719e-01]],\n",
              "\n",
              "        [[ 9.71812546e-01],\n",
              "         [-6.93949163e-02],\n",
              "         [ 7.67620921e-01],\n",
              "         ...,\n",
              "         [ 1.13854742e+00],\n",
              "         [-9.25552607e-01],\n",
              "         [ 1.70960653e+00]]]], dtype=float32)>"
            ]
          },
          "metadata": {},
          "execution_count": 5
        }
      ],
      "source": [
        "tf.random.normal(shape=x_train.shape)"
      ]
    },
    {
      "cell_type": "code",
      "execution_count": 6,
      "id": "c72771a1",
      "metadata": {
        "id": "c72771a1"
      },
      "outputs": [],
      "source": [
        "noise_factor = 0.2\n",
        "x_train_noisy = x_train  +  noise_factor * tf.random.normal(shape=x_train.shape)\n",
        "# noise factor multiplication result in increased spread in noise distribution\n",
        "# result in 0.2^2 increase of variance, mean doesn't chnage (mean = 0)\n",
        "x_test_noisy = x_test  +  noise_factor * tf.random.normal(shape=x_test.shape)\n",
        "\n",
        "x_train_noisy = tf.clip_by_value(x_train_noisy, clip_value_min=0., clip_value_max=1.)\n",
        "x_test_noisy = tf.clip_by_value(x_test_noisy, clip_value_min=0., clip_value_max=1.)"
      ]
    },
    {
      "cell_type": "code",
      "execution_count": 7,
      "id": "ec07ada1",
      "metadata": {
        "colab": {
          "base_uri": "https://localhost:8080/"
        },
        "id": "ec07ada1",
        "outputId": "0dc27b36-65c6-4749-a8c9-973875e73579"
      },
      "outputs": [
        {
          "output_type": "execute_result",
          "data": {
            "text/plain": [
              "TensorShape([10000, 28, 28, 1])"
            ]
          },
          "metadata": {},
          "execution_count": 7
        }
      ],
      "source": [
        "x_test_noisy.shape"
      ]
    },
    {
      "cell_type": "code",
      "execution_count": 8,
      "id": "161649e1",
      "metadata": {
        "colab": {
          "base_uri": "https://localhost:8080/",
          "height": 214
        },
        "id": "161649e1",
        "outputId": "5cc5b567-dda8-44c0-a6de-5b79126c7035"
      },
      "outputs": [
        {
          "output_type": "display_data",
          "data": {
            "text/plain": [
              "<Figure size 2000x200 with 10 Axes>"
            ],
            "image/png": "[encoded data removed]"
          },
          "metadata": {}
        }
      ],
      "source": [
        "n = 10\n",
        "plt.figure(figsize=(20, 2))\n",
        "for i in range(n):\n",
        "    ax = plt.subplot(1, n, i + 1)\n",
        "    plt.title(\"original + noise\")\n",
        "    plt.imshow(tf.squeeze(x_test_noisy[i]))\n",
        "    plt.gray()\n",
        "plt.show()"
      ]
    },
    {
      "cell_type": "code",
      "execution_count": 9,
      "id": "6c314ba6",
      "metadata": {
        "id": "6c314ba6"
      },
      "outputs": [],
      "source": [
        "class Denoise(Model):\n",
        "    def __init__(self):\n",
        "        super(Denoise, self).__init__()\n",
        "        self.encoder = tf.keras.Sequential([\n",
        "          layers.Input(shape=(28, 28, 1)),\n",
        "          layers.Conv2D(16, (3, 3), activation='relu', padding='same', strides=2),\n",
        "          layers.Conv2D(8, (3, 3), activation='relu', padding='same', strides=2)])\n",
        "\n",
        "        self.decoder = tf.keras.Sequential([\n",
        "          layers.Conv2DTranspose(8, kernel_size=3, strides=2, activation='relu', padding='same'),\n",
        "          layers.Conv2DTranspose(16, kernel_size=3, strides=2, activation='relu', padding='same'),\n",
        "          layers.Conv2D(1, kernel_size=(3, 3), activation='sigmoid', padding='same')])\n",
        "\n",
        "    def call(self, x):\n",
        "        encoded = self.encoder(x)\n",
        "        decoded = self.decoder(encoded)\n",
        "        return decoded\n"
      ]
    },
    {
      "cell_type": "code",
      "execution_count": null,
      "id": "96d17937",
      "metadata": {
        "id": "96d17937"
      },
      "outputs": [],
      "source": [
        "autoencoder = Denoise()"
      ]
    },
    {
      "cell_type": "code",
      "execution_count": 13,
      "id": "91cb12a5",
      "metadata": {
        "id": "91cb12a5"
      },
      "outputs": [],
      "source": [
        "autoencoder.compile(optimizer='adam', loss=losses.MeanSquaredError())"
      ]
    },
    {
      "cell_type": "code",
      "execution_count": null,
      "id": "6dd35cd4",
      "metadata": {
        "colab": {
          "base_uri": "https://localhost:8080/"
        },
        "id": "6dd35cd4",
        "outputId": "4cabd1d2-afcd-4a52-fd34-b0bea84b17ad"
      },
      "outputs": [
        {
          "output_type": "stream",
          "name": "stdout",
          "text": [
            "Epoch 1/30\n",
            "\u001b[1m1875/1875\u001b[0m \u001b[32m━━━━━━━━━━━━━━━━━━━━\u001b[0m\u001b[37m\u001b[0m \u001b[1m61s\u001b[0m 32ms/step - loss: 0.0071 - val_loss: 0.0071\n",
            "Epoch 2/30\n",
            "\u001b[1m1875/1875\u001b[0m \u001b[32m━━━━━━━━━━━━━━━━━━━━\u001b[0m\u001b[37m\u001b[0m \u001b[1m82s\u001b[0m 32ms/step - loss: 0.0071 - val_loss: 0.0071\n",
            "Epoch 3/30\n",
            "\u001b[1m1875/1875\u001b[0m \u001b[32m━━━━━━━━━━━━━━━━━━━━\u001b[0m\u001b[37m\u001b[0m \u001b[1m70s\u001b[0m 38ms/step - loss: 0.0071 - val_loss: 0.0071\n",
            "Epoch 4/30\n",
            "\u001b[1m1875/1875\u001b[0m \u001b[32m━━━━━━━━━━━━━━━━━━━━\u001b[0m\u001b[37m\u001b[0m \u001b[1m86s\u001b[0m 40ms/step - loss: 0.0070 - val_loss: 0.0070\n",
            "Epoch 5/30\n",
            "\u001b[1m1875/1875\u001b[0m \u001b[32m━━━━━━━━━━━━━━━━━━━━\u001b[0m\u001b[37m\u001b[0m \u001b[1m82s\u001b[0m 40ms/step - loss: 0.0070 - val_loss: 0.0071\n",
            "Epoch 6/30\n",
            "\u001b[1m1875/1875\u001b[0m \u001b[32m━━━━━━━━━━━━━━━━━━━━\u001b[0m\u001b[37m\u001b[0m \u001b[1m87s\u001b[0m 43ms/step - loss: 0.0070 - val_loss: 0.0070\n",
            "Epoch 7/30\n",
            "\u001b[1m1875/1875\u001b[0m \u001b[32m━━━━━━━━━━━━━━━━━━━━\u001b[0m\u001b[37m\u001b[0m \u001b[1m70s\u001b[0m 38ms/step - loss: 0.0070 - val_loss: 0.0070\n",
            "Epoch 8/30\n",
            "\u001b[1m1875/1875\u001b[0m \u001b[32m━━━━━━━━━━━━━━━━━━━━\u001b[0m\u001b[37m\u001b[0m \u001b[1m86s\u001b[0m 40ms/step - loss: 0.0070 - val_loss: 0.0070\n",
            "Epoch 9/30\n",
            "\u001b[1m1875/1875\u001b[0m \u001b[32m━━━━━━━━━━━━━━━━━━━━\u001b[0m\u001b[37m\u001b[0m \u001b[1m80s\u001b[0m 38ms/step - loss: 0.0070 - val_loss: 0.0070\n",
            "Epoch 10/30\n",
            "\u001b[1m1875/1875\u001b[0m \u001b[32m━━━━━━━━━━━━━━━━━━━━\u001b[0m\u001b[37m\u001b[0m \u001b[1m88s\u001b[0m 42ms/step - loss: 0.0069 - val_loss: 0.0070\n",
            "Epoch 11/30\n",
            "\u001b[1m1875/1875\u001b[0m \u001b[32m━━━━━━━━━━━━━━━━━━━━\u001b[0m\u001b[37m\u001b[0m \u001b[1m80s\u001b[0m 43ms/step - loss: 0.0069 - val_loss: 0.0069\n",
            "Epoch 12/30\n",
            "\u001b[1m1875/1875\u001b[0m \u001b[32m━━━━━━━━━━━━━━━━━━━━\u001b[0m\u001b[37m\u001b[0m \u001b[1m79s\u001b[0m 41ms/step - loss: 0.0069 - val_loss: 0.0069\n",
            "Epoch 13/30\n",
            "\u001b[1m1875/1875\u001b[0m \u001b[32m━━━━━━━━━━━━━━━━━━━━\u001b[0m\u001b[37m\u001b[0m \u001b[1m76s\u001b[0m 38ms/step - loss: 0.0069 - val_loss: 0.0069\n",
            "Epoch 14/30\n",
            "\u001b[1m1875/1875\u001b[0m \u001b[32m━━━━━━━━━━━━━━━━━━━━\u001b[0m\u001b[37m\u001b[0m \u001b[1m83s\u001b[0m 39ms/step - loss: 0.0069 - val_loss: 0.0069\n",
            "Epoch 15/30\n",
            "\u001b[1m1875/1875\u001b[0m \u001b[32m━━━━━━━━━━━━━━━━━━━━\u001b[0m\u001b[37m\u001b[0m \u001b[1m87s\u001b[0m 42ms/step - loss: 0.0069 - val_loss: 0.0069\n",
            "Epoch 16/30\n",
            "\u001b[1m1875/1875\u001b[0m \u001b[32m━━━━━━━━━━━━━━━━━━━━\u001b[0m\u001b[37m\u001b[0m \u001b[1m81s\u001b[0m 41ms/step - loss: 0.0069 - val_loss: 0.0069\n",
            "Epoch 17/30\n",
            "\u001b[1m1875/1875\u001b[0m \u001b[32m━━━━━━━━━━━━━━━━━━━━\u001b[0m\u001b[37m\u001b[0m \u001b[1m84s\u001b[0m 43ms/step - loss: 0.0069 - val_loss: 0.0069\n",
            "Epoch 18/30\n",
            "\u001b[1m1875/1875\u001b[0m \u001b[32m━━━━━━━━━━━━━━━━━━━━\u001b[0m\u001b[37m\u001b[0m \u001b[1m79s\u001b[0m 42ms/step - loss: 0.0069 - val_loss: 0.0069\n",
            "Epoch 19/30\n",
            "\u001b[1m1875/1875\u001b[0m \u001b[32m━━━━━━━━━━━━━━━━━━━━\u001b[0m\u001b[37m\u001b[0m \u001b[1m86s\u001b[0m 44ms/step - loss: 0.0068 - val_loss: 0.0069\n",
            "Epoch 20/30\n",
            "\u001b[1m1875/1875\u001b[0m \u001b[32m━━━━━━━━━━━━━━━━━━━━\u001b[0m\u001b[37m\u001b[0m \u001b[1m80s\u001b[0m 43ms/step - loss: 0.0068 - val_loss: 0.0069\n",
            "Epoch 21/30\n",
            "\u001b[1m1875/1875\u001b[0m \u001b[32m━━━━━━━━━━━━━━━━━━━━\u001b[0m\u001b[37m\u001b[0m \u001b[1m83s\u001b[0m 43ms/step - loss: 0.0068 - val_loss: 0.0069\n",
            "Epoch 22/30\n",
            "\u001b[1m1875/1875\u001b[0m \u001b[32m━━━━━━━━━━━━━━━━━━━━\u001b[0m\u001b[37m\u001b[0m \u001b[1m84s\u001b[0m 44ms/step - loss: 0.0068 - val_loss: 0.0068\n",
            "Epoch 23/30\n",
            "\u001b[1m1875/1875\u001b[0m \u001b[32m━━━━━━━━━━━━━━━━━━━━\u001b[0m\u001b[37m\u001b[0m \u001b[1m139s\u001b[0m 43ms/step - loss: 0.0068 - val_loss: 0.0069\n",
            "Epoch 24/30\n",
            "\u001b[1m1875/1875\u001b[0m \u001b[32m━━━━━━━━━━━━━━━━━━━━\u001b[0m\u001b[37m\u001b[0m \u001b[1m76s\u001b[0m 39ms/step - loss: 0.0068 - val_loss: 0.0068\n",
            "Epoch 25/30\n",
            "\u001b[1m1875/1875\u001b[0m \u001b[32m━━━━━━━━━━━━━━━━━━━━\u001b[0m\u001b[37m\u001b[0m \u001b[1m90s\u001b[0m 44ms/step - loss: 0.0068 - val_loss: 0.0069\n",
            "Epoch 26/30\n",
            "\u001b[1m1875/1875\u001b[0m \u001b[32m━━━━━━━━━━━━━━━━━━━━\u001b[0m\u001b[37m\u001b[0m \u001b[1m82s\u001b[0m 44ms/step - loss: 0.0068 - val_loss: 0.0068\n",
            "Epoch 27/30\n",
            "\u001b[1m1645/1875\u001b[0m \u001b[32m━━━━━━━━━━━━━━━━━\u001b[0m\u001b[37m━━━\u001b[0m \u001b[1m9s\u001b[0m 42ms/step - loss: 0.0068"
          ]
        }
      ],
      "source": [
        "autoencoder.fit(x_train_noisy, x_train,\n",
        "                epochs=30,\n",
        "                shuffle=True,\n",
        "                validation_data=(x_test_noisy, x_test))"
      ]
    },
    {
      "cell_type": "code",
      "execution_count": 16,
      "id": "3f821613",
      "metadata": {
        "colab": {
          "base_uri": "https://localhost:8080/",
          "height": 204
        },
        "id": "3f821613",
        "outputId": "9294abab-43c9-44b0-913e-9605716d0283"
      },
      "outputs": [
        {
          "output_type": "display_data",
          "data": {
            "text/plain": [
              "\u001b[1mModel: \"sequential\"\u001b[0m\n"
            ],
            "text/html": [
              "<pre style=\"white-space:pre;overflow-x:auto;line-height:normal;font-family:Menlo,'DejaVu Sans Mono',consolas,'Courier New',monospace\"><span style=\"font-weight: bold\">Model: \"sequential\"</span>\n",
              "</pre>\n"
            ]
          },
          "metadata": {}
        },
        {
          "output_type": "display_data",
          "data": {
            "text/plain": [
              "┏━━━━━━━━━━━━━━━━━━━━━━━━━━━━━━━━━━━━━━┳━━━━━━━━━━━━━━━━━━━━━━━━━━━━━┳━━━━━━━━━━━━━━━━━┓\n",
              "┃\u001b[1m \u001b[0m\u001b[1mLayer (type)                        \u001b[0m\u001b[1m \u001b[0m┃\u001b[1m \u001b[0m\u001b[1mOutput Shape               \u001b[0m\u001b[1m \u001b[0m┃\u001b[1m \u001b[0m\u001b[1m        Param #\u001b[0m\u001b[1m \u001b[0m┃\n",
              "┡━━━━━━━━━━━━━━━━━━━━━━━━━━━━━━━━━━━━━━╇━━━━━━━━━━━━━━━━━━━━━━━━━━━━━╇━━━━━━━━━━━━━━━━━┩\n",
              "│ conv2d (\u001b[38;5;33mConv2D\u001b[0m)                      │ (\u001b[38;5;45mNone\u001b[0m, \u001b[38;5;34m14\u001b[0m, \u001b[38;5;34m14\u001b[0m, \u001b[38;5;34m16\u001b[0m)          │             \u001b[38;5;34m160\u001b[0m │\n",
              "├──────────────────────────────────────┼─────────────────────────────┼─────────────────┤\n",
              "│ conv2d_1 (\u001b[38;5;33mConv2D\u001b[0m)                    │ (\u001b[38;5;45mNone\u001b[0m, \u001b[38;5;34m7\u001b[0m, \u001b[38;5;34m7\u001b[0m, \u001b[38;5;34m8\u001b[0m)             │           \u001b[38;5;34m1,160\u001b[0m │\n",
              "└──────────────────────────────────────┴─────────────────────────────┴─────────────────┘\n"
            ],
            "text/html": [
              "<pre style=\"white-space:pre;overflow-x:auto;line-height:normal;font-family:Menlo,'DejaVu Sans Mono',consolas,'Courier New',monospace\">┏━━━━━━━━━━━━━━━━━━━━━━━━━━━━━━━━━━━━━━┳━━━━━━━━━━━━━━━━━━━━━━━━━━━━━┳━━━━━━━━━━━━━━━━━┓\n",
              "┃<span style=\"font-weight: bold\"> Layer (type)                         </span>┃<span style=\"font-weight: bold\"> Output Shape                </span>┃<span style=\"font-weight: bold\">         Param # </span>┃\n",
              "┡━━━━━━━━━━━━━━━━━━━━━━━━━━━━━━━━━━━━━━╇━━━━━━━━━━━━━━━━━━━━━━━━━━━━━╇━━━━━━━━━━━━━━━━━┩\n",
              "│ conv2d (<span style=\"color: #0087ff; text-decoration-color: #0087ff\">Conv2D</span>)                      │ (<span style=\"color: #00d7ff; text-decoration-color: #00d7ff\">None</span>, <span style=\"color: #00af00; text-decoration-color: #00af00\">14</span>, <span style=\"color: #00af00; text-decoration-color: #00af00\">14</span>, <span style=\"color: #00af00; text-decoration-color: #00af00\">16</span>)          │             <span style=\"color: #00af00; text-decoration-color: #00af00\">160</span> │\n",
              "├──────────────────────────────────────┼─────────────────────────────┼─────────────────┤\n",
              "│ conv2d_1 (<span style=\"color: #0087ff; text-decoration-color: #0087ff\">Conv2D</span>)                    │ (<span style=\"color: #00d7ff; text-decoration-color: #00d7ff\">None</span>, <span style=\"color: #00af00; text-decoration-color: #00af00\">7</span>, <span style=\"color: #00af00; text-decoration-color: #00af00\">7</span>, <span style=\"color: #00af00; text-decoration-color: #00af00\">8</span>)             │           <span style=\"color: #00af00; text-decoration-color: #00af00\">1,160</span> │\n",
              "└──────────────────────────────────────┴─────────────────────────────┴─────────────────┘\n",
              "</pre>\n"
            ]
          },
          "metadata": {}
        },
        {
          "output_type": "display_data",
          "data": {
            "text/plain": [
              "\u001b[1m Total params: \u001b[0m\u001b[38;5;34m1,320\u001b[0m (5.16 KB)\n"
            ],
            "text/html": [
              "<pre style=\"white-space:pre;overflow-x:auto;line-height:normal;font-family:Menlo,'DejaVu Sans Mono',consolas,'Courier New',monospace\"><span style=\"font-weight: bold\"> Total params: </span><span style=\"color: #00af00; text-decoration-color: #00af00\">1,320</span> (5.16 KB)\n",
              "</pre>\n"
            ]
          },
          "metadata": {}
        },
        {
          "output_type": "display_data",
          "data": {
            "text/plain": [
              "\u001b[1m Trainable params: \u001b[0m\u001b[38;5;34m1,320\u001b[0m (5.16 KB)\n"
            ],
            "text/html": [
              "<pre style=\"white-space:pre;overflow-x:auto;line-height:normal;font-family:Menlo,'DejaVu Sans Mono',consolas,'Courier New',monospace\"><span style=\"font-weight: bold\"> Trainable params: </span><span style=\"color: #00af00; text-decoration-color: #00af00\">1,320</span> (5.16 KB)\n",
              "</pre>\n"
            ]
          },
          "metadata": {}
        },
        {
          "output_type": "display_data",
          "data": {
            "text/plain": [
              "\u001b[1m Non-trainable params: \u001b[0m\u001b[38;5;34m0\u001b[0m (0.00 B)\n"
            ],
            "text/html": [
              "<pre style=\"white-space:pre;overflow-x:auto;line-height:normal;font-family:Menlo,'DejaVu Sans Mono',consolas,'Courier New',monospace\"><span style=\"font-weight: bold\"> Non-trainable params: </span><span style=\"color: #00af00; text-decoration-color: #00af00\">0</span> (0.00 B)\n",
              "</pre>\n"
            ]
          },
          "metadata": {}
        }
      ],
      "source": [
        "autoencoder.encoder.summary()\n"
      ]
    },
    {
      "cell_type": "code",
      "execution_count": 17,
      "id": "499a50d1",
      "metadata": {
        "colab": {
          "base_uri": "https://localhost:8080/",
          "height": 238
        },
        "id": "499a50d1",
        "outputId": "72be3a8d-8773-4cce-826a-450eab41e275"
      },
      "outputs": [
        {
          "output_type": "display_data",
          "data": {
            "text/plain": [
              "\u001b[1mModel: \"sequential_1\"\u001b[0m\n"
            ],
            "text/html": [
              "<pre style=\"white-space:pre;overflow-x:auto;line-height:normal;font-family:Menlo,'DejaVu Sans Mono',consolas,'Courier New',monospace\"><span style=\"font-weight: bold\">Model: \"sequential_1\"</span>\n",
              "</pre>\n"
            ]
          },
          "metadata": {}
        },
        {
          "output_type": "display_data",
          "data": {
            "text/plain": [
              "┏━━━━━━━━━━━━━━━━━━━━━━━━━━━━━━━━━━━━━━┳━━━━━━━━━━━━━━━━━━━━━━━━━━━━━┳━━━━━━━━━━━━━━━━━┓\n",
              "┃\u001b[1m \u001b[0m\u001b[1mLayer (type)                        \u001b[0m\u001b[1m \u001b[0m┃\u001b[1m \u001b[0m\u001b[1mOutput Shape               \u001b[0m\u001b[1m \u001b[0m┃\u001b[1m \u001b[0m\u001b[1m        Param #\u001b[0m\u001b[1m \u001b[0m┃\n",
              "┡━━━━━━━━━━━━━━━━━━━━━━━━━━━━━━━━━━━━━━╇━━━━━━━━━━━━━━━━━━━━━━━━━━━━━╇━━━━━━━━━━━━━━━━━┩\n",
              "│ conv2d_transpose (\u001b[38;5;33mConv2DTranspose\u001b[0m)   │ (\u001b[38;5;34m32\u001b[0m, \u001b[38;5;34m14\u001b[0m, \u001b[38;5;34m14\u001b[0m, \u001b[38;5;34m8\u001b[0m)             │             \u001b[38;5;34m584\u001b[0m │\n",
              "├──────────────────────────────────────┼─────────────────────────────┼─────────────────┤\n",
              "│ conv2d_transpose_1 (\u001b[38;5;33mConv2DTranspose\u001b[0m) │ (\u001b[38;5;34m32\u001b[0m, \u001b[38;5;34m28\u001b[0m, \u001b[38;5;34m28\u001b[0m, \u001b[38;5;34m16\u001b[0m)            │           \u001b[38;5;34m1,168\u001b[0m │\n",
              "├──────────────────────────────────────┼─────────────────────────────┼─────────────────┤\n",
              "│ conv2d_2 (\u001b[38;5;33mConv2D\u001b[0m)                    │ (\u001b[38;5;34m32\u001b[0m, \u001b[38;5;34m28\u001b[0m, \u001b[38;5;34m28\u001b[0m, \u001b[38;5;34m1\u001b[0m)             │             \u001b[38;5;34m145\u001b[0m │\n",
              "└──────────────────────────────────────┴─────────────────────────────┴─────────────────┘\n"
            ],
            "text/html": [
              "<pre style=\"white-space:pre;overflow-x:auto;line-height:normal;font-family:Menlo,'DejaVu Sans Mono',consolas,'Courier New',monospace\">┏━━━━━━━━━━━━━━━━━━━━━━━━━━━━━━━━━━━━━━┳━━━━━━━━━━━━━━━━━━━━━━━━━━━━━┳━━━━━━━━━━━━━━━━━┓\n",
              "┃<span style=\"font-weight: bold\"> Layer (type)                         </span>┃<span style=\"font-weight: bold\"> Output Shape                </span>┃<span style=\"font-weight: bold\">         Param # </span>┃\n",
              "┡━━━━━━━━━━━━━━━━━━━━━━━━━━━━━━━━━━━━━━╇━━━━━━━━━━━━━━━━━━━━━━━━━━━━━╇━━━━━━━━━━━━━━━━━┩\n",
              "│ conv2d_transpose (<span style=\"color: #0087ff; text-decoration-color: #0087ff\">Conv2DTranspose</span>)   │ (<span style=\"color: #00af00; text-decoration-color: #00af00\">32</span>, <span style=\"color: #00af00; text-decoration-color: #00af00\">14</span>, <span style=\"color: #00af00; text-decoration-color: #00af00\">14</span>, <span style=\"color: #00af00; text-decoration-color: #00af00\">8</span>)             │             <span style=\"color: #00af00; text-decoration-color: #00af00\">584</span> │\n",
              "├──────────────────────────────────────┼─────────────────────────────┼─────────────────┤\n",
              "│ conv2d_transpose_1 (<span style=\"color: #0087ff; text-decoration-color: #0087ff\">Conv2DTranspose</span>) │ (<span style=\"color: #00af00; text-decoration-color: #00af00\">32</span>, <span style=\"color: #00af00; text-decoration-color: #00af00\">28</span>, <span style=\"color: #00af00; text-decoration-color: #00af00\">28</span>, <span style=\"color: #00af00; text-decoration-color: #00af00\">16</span>)            │           <span style=\"color: #00af00; text-decoration-color: #00af00\">1,168</span> │\n",
              "├──────────────────────────────────────┼─────────────────────────────┼─────────────────┤\n",
              "│ conv2d_2 (<span style=\"color: #0087ff; text-decoration-color: #0087ff\">Conv2D</span>)                    │ (<span style=\"color: #00af00; text-decoration-color: #00af00\">32</span>, <span style=\"color: #00af00; text-decoration-color: #00af00\">28</span>, <span style=\"color: #00af00; text-decoration-color: #00af00\">28</span>, <span style=\"color: #00af00; text-decoration-color: #00af00\">1</span>)             │             <span style=\"color: #00af00; text-decoration-color: #00af00\">145</span> │\n",
              "└──────────────────────────────────────┴─────────────────────────────┴─────────────────┘\n",
              "</pre>\n"
            ]
          },
          "metadata": {}
        },
        {
          "output_type": "display_data",
          "data": {
            "text/plain": [
              "\u001b[1m Total params: \u001b[0m\u001b[38;5;34m1,897\u001b[0m (7.41 KB)\n"
            ],
            "text/html": [
              "<pre style=\"white-space:pre;overflow-x:auto;line-height:normal;font-family:Menlo,'DejaVu Sans Mono',consolas,'Courier New',monospace\"><span style=\"font-weight: bold\"> Total params: </span><span style=\"color: #00af00; text-decoration-color: #00af00\">1,897</span> (7.41 KB)\n",
              "</pre>\n"
            ]
          },
          "metadata": {}
        },
        {
          "output_type": "display_data",
          "data": {
            "text/plain": [
              "\u001b[1m Trainable params: \u001b[0m\u001b[38;5;34m1,897\u001b[0m (7.41 KB)\n"
            ],
            "text/html": [
              "<pre style=\"white-space:pre;overflow-x:auto;line-height:normal;font-family:Menlo,'DejaVu Sans Mono',consolas,'Courier New',monospace\"><span style=\"font-weight: bold\"> Trainable params: </span><span style=\"color: #00af00; text-decoration-color: #00af00\">1,897</span> (7.41 KB)\n",
              "</pre>\n"
            ]
          },
          "metadata": {}
        },
        {
          "output_type": "display_data",
          "data": {
            "text/plain": [
              "\u001b[1m Non-trainable params: \u001b[0m\u001b[38;5;34m0\u001b[0m (0.00 B)\n"
            ],
            "text/html": [
              "<pre style=\"white-space:pre;overflow-x:auto;line-height:normal;font-family:Menlo,'DejaVu Sans Mono',consolas,'Courier New',monospace\"><span style=\"font-weight: bold\"> Non-trainable params: </span><span style=\"color: #00af00; text-decoration-color: #00af00\">0</span> (0.00 B)\n",
              "</pre>\n"
            ]
          },
          "metadata": {}
        }
      ],
      "source": [
        "autoencoder.decoder.summary()\n"
      ]
    },
    {
      "cell_type": "code",
      "execution_count": 18,
      "id": "8ceec97e",
      "metadata": {
        "id": "8ceec97e"
      },
      "outputs": [],
      "source": [
        "encoded_imgs = autoencoder.encoder(x_test_noisy).numpy()\n",
        "decoded_imgs = autoencoder.decoder(encoded_imgs).numpy()"
      ]
    },
    {
      "cell_type": "code",
      "execution_count": 19,
      "id": "510db41a",
      "metadata": {
        "colab": {
          "base_uri": "https://localhost:8080/",
          "height": 516
        },
        "id": "510db41a",
        "outputId": "7014ccff-bdb9-41b8-f2b4-1f07389bcd65"
      },
      "outputs": [
        {
          "output_type": "display_data",
          "data": {
            "text/plain": [
              "<Figure size 2000x600 with 30 Axes>"
            ],
            "image/png": "[encoded data removed]"
          },
          "metadata": {}
        }
      ],
      "source": [
        "n = 10\n",
        "plt.figure(figsize=(20, 6))\n",
        "for i in range(n):\n",
        "    # display original\n",
        "    ax = plt.subplot(3, n, i + 1)\n",
        "    plt.title(\"original\")\n",
        "    plt.imshow(tf.squeeze(x_test[i]))\n",
        "    plt.gray()\n",
        "    ax.get_xaxis().set_visible(False)\n",
        "    ax.get_yaxis().set_visible(False)\n",
        "\n",
        "    # display original + noise\n",
        "    ax = plt.subplot(3, n, i + n + 1)\n",
        "    plt.title(\"original + noise\")\n",
        "    plt.imshow(tf.squeeze(x_test_noisy[i]))\n",
        "    plt.gray()\n",
        "    ax.get_xaxis().set_visible(False)\n",
        "    ax.get_yaxis().set_visible(False)\n",
        "\n",
        "    # display reconstruction\n",
        "    bx = plt.subplot(3, n, i + 2*n + 1)\n",
        "    plt.title(\"reconstructed\")\n",
        "    plt.imshow(tf.squeeze(decoded_imgs[i]))\n",
        "    plt.gray()\n",
        "    bx.get_xaxis().set_visible(False)\n",
        "    bx.get_yaxis().set_visible(False)\n",
        "plt.show()"
      ]
    },
    {
      "cell_type": "code",
      "source": [
        "# Get the reconstructed images for the test dataset\n",
        "decoded_imgs_test = autoencoder(x_test_noisy)\n",
        "\n",
        "# Calculate the Mean Squared Error (MSE) for the test dataset\n",
        "mse_loss = tf.keras.losses.MeanSquaredError()\n",
        "\n",
        "# Apply the MSE to compare the original test images and the reconstructed images\n",
        "test_loss = mse_loss(x_test, decoded_imgs_test).numpy()\n",
        "\n",
        "print(f\"Test Loss (Mean Squared Error): {test_loss}\")"
      ],
      "metadata": {
        "id": "U9iawjwaxFNr"
      },
      "id": "U9iawjwaxFNr",
      "execution_count": null,
      "outputs": []
    },
    {
      "cell_type": "code",
      "source": [
        "# Train the model and store the training history\n",
        "history = autoencoder.fit(x_train_noisy, x_train,\n",
        "                          epochs=10,\n",
        "                          shuffle=True,\n",
        "                          validation_data=(x_test_noisy, x_test))\n",
        "\n",
        "# Plot the training and validation loss against the number of epochs\n",
        "plt.figure(figsize=(8, 6))\n",
        "plt.plot(history.history['loss'], label='Training Loss')\n",
        "plt.plot(history.history['val_loss'], label='Validation Loss')\n",
        "plt.xlabel('Epochs')\n",
        "plt.ylabel('Loss (Mean Squared Error)')\n",
        "plt.title('Training and Validation Loss Over Epochs')\n",
        "plt.legend()\n",
        "plt.grid(True)\n",
        "plt.show()"
      ],
      "metadata": {
        "id": "6l9duW61xF-0"
      },
      "id": "6l9duW61xF-0",
      "execution_count": null,
      "outputs": []
    },
    {
      "cell_type": "code",
      "source": [
        "# List of different noise factors to experiment with\n",
        "noise_factors = [0.1, 0.2, 0.3, 0.4, 0.5]\n",
        "\n",
        "# Function to add noise and plot images\n",
        "def add_noise_and_train(noise_factor):\n",
        "    print(f\"\\nTraining with noise_factor: {noise_factor}\")\n",
        "\n",
        "    # Add noise to the training and test sets\n",
        "    x_train_noisy = x_train + noise_factor * tf.random.normal(shape=x_train.shape)\n",
        "    x_test_noisy = x_test + noise_factor * tf.random.normal(shape=x_test.shape)\n",
        "\n",
        "    # Clip the values to ensure they're between 0 and 1\n",
        "    x_train_noisy = tf.clip_by_value(x_train_noisy, clip_value_min=0., clip_value_max=1.)\n",
        "    x_test_noisy = tf.clip_by_value(x_test_noisy, clip_value_min=0., clip_value_max=1.)\n",
        "\n",
        "    # Visualize the effect of the noise on the test images\n",
        "    n = 10\n",
        "    plt.figure(figsize=(20, 2))\n",
        "    for i in range(n):\n",
        "        ax = plt.subplot(1, n, i + 1)\n",
        "        plt.title(f\"noise_factor: {noise_factor}\")\n",
        "        plt.imshow(tf.squeeze(x_test_noisy[i]))\n",
        "        plt.gray()\n",
        "    plt.show()\n",
        "\n",
        "    # Train the autoencoder with noisy data\n",
        "    history = autoencoder.fit(x_train_noisy, x_train,\n",
        "                              epochs=10,\n",
        "                              shuffle=True,\n",
        "                              validation_data=(x_test_noisy, x_test),\n",
        "                              verbose=0)\n",
        "\n",
        "    # Get final validation loss after training\n",
        "    val_loss = history.history['val_loss'][-1]\n",
        "\n",
        "    # Return the validation loss and plot\n",
        "    return val_loss\n",
        "\n",
        "# Dictionary to store the results of noise factors and their corresponding validation losses\n",
        "noise_factor_results = {}\n",
        "\n",
        "# Loop through different noise_factor values and observe their effects\n",
        "for noise_factor in noise_factors:\n",
        "    val_loss = add_noise_and_train(noise_factor)\n",
        "    noise_factor_results[noise_factor] = val_loss\n",
        "    print(f\"Validation Loss for noise_factor {noise_factor}: {val_loss}\")\n",
        "\n",
        "# Find the best noise factor with the lowest validation loss\n",
        "best_noise_factor = min(noise_factor_results, key=noise_factor_results.get)\n",
        "print(f\"\\nBest noise_factor: {best_noise_factor} with Validation Loss: {noise_factor_results[best_noise_factor]}\")\n"
      ],
      "metadata": {
        "id": "hZ-FmX1exWUJ"
      },
      "id": "hZ-FmX1exWUJ",
      "execution_count": null,
      "outputs": []
    }
  ],
  "metadata": {
    "kernelspec": {
      "display_name": "Python 3",
      "language": "python",
      "name": "python3"
    },
    "language_info": {
      "codemirror_mode": {
        "name": "ipython",
        "version": 3
      },
      "file_extension": ".py",
      "mimetype": "text/x-python",
      "name": "python",
      "nbconvert_exporter": "python",
      "pygments_lexer": "ipython3",
      "version": "3.8.8"
    },
    "colab": {
      "provenance": [],
      "include_colab_link": true
    }
  },
  "nbformat": 4,
  "nbformat_minor": 5
}